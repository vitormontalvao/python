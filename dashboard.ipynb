{
  "nbformat": 4,
  "nbformat_minor": 0,
  "metadata": {
    "colab": {
      "provenance": [],
      "collapsed_sections": [
        "XW-Ewl7skxDp",
        "Znf2Ppn9qE66"
      ],
      "include_colab_link": true
    },
    "kernelspec": {
      "name": "python3",
      "display_name": "Python 3"
    },
    "widgets": {
      "application/vnd.jupyter.widget-state+json": {
        "a01899175a4241f1aef5b6ef35b1427c": {
          "model_module": "@jupyter-widgets/controls",
          "model_name": "DropdownModel",
          "model_module_version": "1.5.0",
          "state": {
            "_dom_classes": [],
            "_model_module": "@jupyter-widgets/controls",
            "_model_module_version": "1.5.0",
            "_model_name": "DropdownModel",
            "_options_labels": [
              "PurchAmount",
              "Cost",
              "Quantity"
            ],
            "_view_count": null,
            "_view_module": "@jupyter-widgets/controls",
            "_view_module_version": "1.5.0",
            "_view_name": "DropdownView",
            "description": "Y variable:",
            "description_tooltip": null,
            "disabled": false,
            "index": 1,
            "layout": "IPY_MODEL_c380c2889dda46cf8762e38c5460474a",
            "style": "IPY_MODEL_2b153a6b2d3e4dc9a0f1193c70c62400"
          }
        },
        "c380c2889dda46cf8762e38c5460474a": {
          "model_module": "@jupyter-widgets/base",
          "model_name": "LayoutModel",
          "model_module_version": "1.2.0",
          "state": {
            "_model_module": "@jupyter-widgets/base",
            "_model_module_version": "1.2.0",
            "_model_name": "LayoutModel",
            "_view_count": null,
            "_view_module": "@jupyter-widgets/base",
            "_view_module_version": "1.2.0",
            "_view_name": "LayoutView",
            "align_content": null,
            "align_items": null,
            "align_self": null,
            "border": null,
            "bottom": null,
            "display": null,
            "flex": null,
            "flex_flow": null,
            "grid_area": null,
            "grid_auto_columns": null,
            "grid_auto_flow": null,
            "grid_auto_rows": null,
            "grid_column": null,
            "grid_gap": null,
            "grid_row": null,
            "grid_template_areas": null,
            "grid_template_columns": null,
            "grid_template_rows": null,
            "height": null,
            "justify_content": null,
            "justify_items": null,
            "left": null,
            "margin": null,
            "max_height": null,
            "max_width": null,
            "min_height": null,
            "min_width": null,
            "object_fit": null,
            "object_position": null,
            "order": null,
            "overflow": null,
            "overflow_x": null,
            "overflow_y": null,
            "padding": null,
            "right": null,
            "top": null,
            "visibility": null,
            "width": null
          }
        },
        "2b153a6b2d3e4dc9a0f1193c70c62400": {
          "model_module": "@jupyter-widgets/controls",
          "model_name": "DescriptionStyleModel",
          "model_module_version": "1.5.0",
          "state": {
            "_model_module": "@jupyter-widgets/controls",
            "_model_module_version": "1.5.0",
            "_model_name": "DescriptionStyleModel",
            "_view_count": null,
            "_view_module": "@jupyter-widgets/base",
            "_view_module_version": "1.2.0",
            "_view_name": "StyleView",
            "description_width": ""
          }
        },
        "02f81fef708f4298b4a1d952301ee9d2": {
          "model_module": "@jupyter-widgets/controls",
          "model_name": "DropdownModel",
          "model_module_version": "1.5.0",
          "state": {
            "_dom_classes": [],
            "_model_module": "@jupyter-widgets/controls",
            "_model_module_version": "1.5.0",
            "_model_name": "DropdownModel",
            "_options_labels": [
              "PurchAmount",
              "Cost",
              "Quantity"
            ],
            "_view_count": null,
            "_view_module": "@jupyter-widgets/controls",
            "_view_module_version": "1.5.0",
            "_view_name": "DropdownView",
            "description": "X variable:",
            "description_tooltip": null,
            "disabled": false,
            "index": 0,
            "layout": "IPY_MODEL_8d92581000b04b8691ec36e267982a09",
            "style": "IPY_MODEL_c8652428c57d450a91b1e8ae3063da19"
          }
        },
        "8d92581000b04b8691ec36e267982a09": {
          "model_module": "@jupyter-widgets/base",
          "model_name": "LayoutModel",
          "model_module_version": "1.2.0",
          "state": {
            "_model_module": "@jupyter-widgets/base",
            "_model_module_version": "1.2.0",
            "_model_name": "LayoutModel",
            "_view_count": null,
            "_view_module": "@jupyter-widgets/base",
            "_view_module_version": "1.2.0",
            "_view_name": "LayoutView",
            "align_content": null,
            "align_items": null,
            "align_self": null,
            "border": null,
            "bottom": null,
            "display": null,
            "flex": null,
            "flex_flow": null,
            "grid_area": null,
            "grid_auto_columns": null,
            "grid_auto_flow": null,
            "grid_auto_rows": null,
            "grid_column": null,
            "grid_gap": null,
            "grid_row": null,
            "grid_template_areas": null,
            "grid_template_columns": null,
            "grid_template_rows": null,
            "height": null,
            "justify_content": null,
            "justify_items": null,
            "left": null,
            "margin": null,
            "max_height": null,
            "max_width": null,
            "min_height": null,
            "min_width": null,
            "object_fit": null,
            "object_position": null,
            "order": null,
            "overflow": null,
            "overflow_x": null,
            "overflow_y": null,
            "padding": null,
            "right": null,
            "top": null,
            "visibility": null,
            "width": null
          }
        },
        "c8652428c57d450a91b1e8ae3063da19": {
          "model_module": "@jupyter-widgets/controls",
          "model_name": "DescriptionStyleModel",
          "model_module_version": "1.5.0",
          "state": {
            "_model_module": "@jupyter-widgets/controls",
            "_model_module_version": "1.5.0",
            "_model_name": "DescriptionStyleModel",
            "_view_count": null,
            "_view_module": "@jupyter-widgets/base",
            "_view_module_version": "1.2.0",
            "_view_name": "StyleView",
            "description_width": ""
          }
        },
        "01bcbc5857874b6db23fd4bf26ab6372": {
          "model_module": "@jupyter-widgets/output",
          "model_name": "OutputModel",
          "model_module_version": "1.0.0",
          "state": {
            "_dom_classes": [],
            "_model_module": "@jupyter-widgets/output",
            "_model_module_version": "1.0.0",
            "_model_name": "OutputModel",
            "_view_count": null,
            "_view_module": "@jupyter-widgets/output",
            "_view_module_version": "1.0.0",
            "_view_name": "OutputView",
            "layout": "IPY_MODEL_0f3b57be261946fc966b350bffb79828",
            "msg_id": "",
            "outputs": [
              {
                "output_type": "display_data",
                "data": {
                  "text/plain": "<Figure size 432x288 with 1 Axes>",
                  "image/png": "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\n"
                },
                "metadata": {
                  "needs_background": "light"
                }
              }
            ]
          }
        },
        "0f3b57be261946fc966b350bffb79828": {
          "model_module": "@jupyter-widgets/base",
          "model_name": "LayoutModel",
          "model_module_version": "1.2.0",
          "state": {
            "_model_module": "@jupyter-widgets/base",
            "_model_module_version": "1.2.0",
            "_model_name": "LayoutModel",
            "_view_count": null,
            "_view_module": "@jupyter-widgets/base",
            "_view_module_version": "1.2.0",
            "_view_name": "LayoutView",
            "align_content": null,
            "align_items": null,
            "align_self": null,
            "border": null,
            "bottom": null,
            "display": null,
            "flex": null,
            "flex_flow": null,
            "grid_area": null,
            "grid_auto_columns": null,
            "grid_auto_flow": null,
            "grid_auto_rows": null,
            "grid_column": null,
            "grid_gap": null,
            "grid_row": null,
            "grid_template_areas": null,
            "grid_template_columns": null,
            "grid_template_rows": null,
            "height": null,
            "justify_content": null,
            "justify_items": null,
            "left": null,
            "margin": null,
            "max_height": null,
            "max_width": null,
            "min_height": null,
            "min_width": null,
            "object_fit": null,
            "object_position": null,
            "order": null,
            "overflow": null,
            "overflow_x": null,
            "overflow_y": null,
            "padding": null,
            "right": null,
            "top": null,
            "visibility": null,
            "width": null
          }
        }
      }
    }
  },
  "cells": [
    {
      "cell_type": "markdown",
      "metadata": {
        "id": "view-in-github",
        "colab_type": "text"
      },
      "source": [
        "<a href=\"https://colab.research.google.com/github/vitormontalvao/python/blob/main/dashboard.ipynb\" target=\"_parent\"><img src=\"https://colab.research.google.com/assets/colab-badge.svg\" alt=\"Open In Colab\"/></a>"
      ]
    },
    {
      "cell_type": "markdown",
      "metadata": {
        "id": "cCjAe20VdlxO"
      },
      "source": [
        "#Python - Non-technical introduction\n",
        "\n",
        "## Interactive dashboard\n",
        "\n",
        "*Note:* If you want to make changes to this document, you need to save your own copy on Github using the \"Save copy in Github\" command in the \"File\" menu."
      ]
    },
    {
      "cell_type": "markdown",
      "metadata": {
        "id": "qpmzcnuFlexj"
      },
      "source": [
        "###Preparation\n",
        "\n",
        "**Make sure to run the follwing code before continuing.** Code will prepare everything (load data, ...)."
      ]
    },
    {
      "cell_type": "code",
      "source": [
        "import pandas as pd\n",
        "import matplotlib.pyplot as plt\n",
        "import ipywidgets as widgets\n"
      ],
      "metadata": {
        "id": "Tnvkv0jBuOJ3"
      },
      "execution_count": null,
      "outputs": []
    },
    {
      "cell_type": "code",
      "metadata": {
        "id": "sD_8-FV6lZVl",
        "outputId": "c50d7f83-42f0-4537-af30-aa2876ed4e2e",
        "colab": {
          "base_uri": "https://localhost:8080/",
          "height": 221
        }
      },
      "source": [
        "myData=pd.read_csv(\"https://raw.githubusercontent.com/bachmannpatrick/Python-Class/master/data/transactions.csv\")\n",
        "myData.head()"
      ],
      "execution_count": null,
      "outputs": [
        {
          "output_type": "execute_result",
          "data": {
            "text/plain": [
              "   Customer   TransDate  Quantity  PurchAmount    Cost    TransID\n",
              "0    149332  15.11.2005         1       199.95  107.00  127998739\n",
              "1    172951  29.08.2008         1       199.95  108.00  128888288\n",
              "2    120621  19.10.2007         1        99.95   49.00  125375247\n",
              "3    149236  14.11.2005         1        39.95   18.95  127996226\n",
              "4    149236  12.06.2007         1        79.95   35.00  128670302"
            ],
            "text/html": [
              "\n",
              "  <div id=\"df-e847bd7a-1ca9-4f95-b994-38780a423082\">\n",
              "    <div class=\"colab-df-container\">\n",
              "      <div>\n",
              "<style scoped>\n",
              "    .dataframe tbody tr th:only-of-type {\n",
              "        vertical-align: middle;\n",
              "    }\n",
              "\n",
              "    .dataframe tbody tr th {\n",
              "        vertical-align: top;\n",
              "    }\n",
              "\n",
              "    .dataframe thead th {\n",
              "        text-align: right;\n",
              "    }\n",
              "</style>\n",
              "<table border=\"1\" class=\"dataframe\">\n",
              "  <thead>\n",
              "    <tr style=\"text-align: right;\">\n",
              "      <th></th>\n",
              "      <th>Customer</th>\n",
              "      <th>TransDate</th>\n",
              "      <th>Quantity</th>\n",
              "      <th>PurchAmount</th>\n",
              "      <th>Cost</th>\n",
              "      <th>TransID</th>\n",
              "    </tr>\n",
              "  </thead>\n",
              "  <tbody>\n",
              "    <tr>\n",
              "      <th>0</th>\n",
              "      <td>149332</td>\n",
              "      <td>15.11.2005</td>\n",
              "      <td>1</td>\n",
              "      <td>199.95</td>\n",
              "      <td>107.00</td>\n",
              "      <td>127998739</td>\n",
              "    </tr>\n",
              "    <tr>\n",
              "      <th>1</th>\n",
              "      <td>172951</td>\n",
              "      <td>29.08.2008</td>\n",
              "      <td>1</td>\n",
              "      <td>199.95</td>\n",
              "      <td>108.00</td>\n",
              "      <td>128888288</td>\n",
              "    </tr>\n",
              "    <tr>\n",
              "      <th>2</th>\n",
              "      <td>120621</td>\n",
              "      <td>19.10.2007</td>\n",
              "      <td>1</td>\n",
              "      <td>99.95</td>\n",
              "      <td>49.00</td>\n",
              "      <td>125375247</td>\n",
              "    </tr>\n",
              "    <tr>\n",
              "      <th>3</th>\n",
              "      <td>149236</td>\n",
              "      <td>14.11.2005</td>\n",
              "      <td>1</td>\n",
              "      <td>39.95</td>\n",
              "      <td>18.95</td>\n",
              "      <td>127996226</td>\n",
              "    </tr>\n",
              "    <tr>\n",
              "      <th>4</th>\n",
              "      <td>149236</td>\n",
              "      <td>12.06.2007</td>\n",
              "      <td>1</td>\n",
              "      <td>79.95</td>\n",
              "      <td>35.00</td>\n",
              "      <td>128670302</td>\n",
              "    </tr>\n",
              "  </tbody>\n",
              "</table>\n",
              "</div>\n",
              "      <button class=\"colab-df-convert\" onclick=\"convertToInteractive('df-e847bd7a-1ca9-4f95-b994-38780a423082')\"\n",
              "              title=\"Convert this dataframe to an interactive table.\"\n",
              "              style=\"display:none;\">\n",
              "        \n",
              "  <svg xmlns=\"http://www.w3.org/2000/svg\" height=\"24px\"viewBox=\"0 0 24 24\"\n",
              "       width=\"24px\">\n",
              "    <path d=\"M0 0h24v24H0V0z\" fill=\"none\"/>\n",
              "    <path d=\"M18.56 5.44l.94 2.06.94-2.06 2.06-.94-2.06-.94-.94-2.06-.94 2.06-2.06.94zm-11 1L8.5 8.5l.94-2.06 2.06-.94-2.06-.94L8.5 2.5l-.94 2.06-2.06.94zm10 10l.94 2.06.94-2.06 2.06-.94-2.06-.94-.94-2.06-.94 2.06-2.06.94z\"/><path d=\"M17.41 7.96l-1.37-1.37c-.4-.4-.92-.59-1.43-.59-.52 0-1.04.2-1.43.59L10.3 9.45l-7.72 7.72c-.78.78-.78 2.05 0 2.83L4 21.41c.39.39.9.59 1.41.59.51 0 1.02-.2 1.41-.59l7.78-7.78 2.81-2.81c.8-.78.8-2.07 0-2.86zM5.41 20L4 18.59l7.72-7.72 1.47 1.35L5.41 20z\"/>\n",
              "  </svg>\n",
              "      </button>\n",
              "      \n",
              "  <style>\n",
              "    .colab-df-container {\n",
              "      display:flex;\n",
              "      flex-wrap:wrap;\n",
              "      gap: 12px;\n",
              "    }\n",
              "\n",
              "    .colab-df-convert {\n",
              "      background-color: #E8F0FE;\n",
              "      border: none;\n",
              "      border-radius: 50%;\n",
              "      cursor: pointer;\n",
              "      display: none;\n",
              "      fill: #1967D2;\n",
              "      height: 32px;\n",
              "      padding: 0 0 0 0;\n",
              "      width: 32px;\n",
              "    }\n",
              "\n",
              "    .colab-df-convert:hover {\n",
              "      background-color: #E2EBFA;\n",
              "      box-shadow: 0px 1px 2px rgba(60, 64, 67, 0.3), 0px 1px 3px 1px rgba(60, 64, 67, 0.15);\n",
              "      fill: #174EA6;\n",
              "    }\n",
              "\n",
              "    [theme=dark] .colab-df-convert {\n",
              "      background-color: #3B4455;\n",
              "      fill: #D2E3FC;\n",
              "    }\n",
              "\n",
              "    [theme=dark] .colab-df-convert:hover {\n",
              "      background-color: #434B5C;\n",
              "      box-shadow: 0px 1px 3px 1px rgba(0, 0, 0, 0.15);\n",
              "      filter: drop-shadow(0px 1px 2px rgba(0, 0, 0, 0.3));\n",
              "      fill: #FFFFFF;\n",
              "    }\n",
              "  </style>\n",
              "\n",
              "      <script>\n",
              "        const buttonEl =\n",
              "          document.querySelector('#df-e847bd7a-1ca9-4f95-b994-38780a423082 button.colab-df-convert');\n",
              "        buttonEl.style.display =\n",
              "          google.colab.kernel.accessAllowed ? 'block' : 'none';\n",
              "\n",
              "        async function convertToInteractive(key) {\n",
              "          const element = document.querySelector('#df-e847bd7a-1ca9-4f95-b994-38780a423082');\n",
              "          const dataTable =\n",
              "            await google.colab.kernel.invokeFunction('convertToInteractive',\n",
              "                                                     [key], {});\n",
              "          if (!dataTable) return;\n",
              "\n",
              "          const docLinkHtml = 'Like what you see? Visit the ' +\n",
              "            '<a target=\"_blank\" href=https://colab.research.google.com/notebooks/data_table.ipynb>data table notebook</a>'\n",
              "            + ' to learn more about interactive tables.';\n",
              "          element.innerHTML = '';\n",
              "          dataTable['output_type'] = 'display_data';\n",
              "          await google.colab.output.renderOutput(dataTable, element);\n",
              "          const docLink = document.createElement('div');\n",
              "          docLink.innerHTML = docLinkHtml;\n",
              "          element.appendChild(docLink);\n",
              "        }\n",
              "      </script>\n",
              "    </div>\n",
              "  </div>\n",
              "  "
            ]
          },
          "metadata": {},
          "execution_count": 2
        }
      ]
    },
    {
      "cell_type": "markdown",
      "metadata": {
        "id": "XW-Ewl7skxDp"
      },
      "source": [
        "## Create interactive plots"
      ]
    },
    {
      "cell_type": "markdown",
      "source": [
        "Create the dropdown menus"
      ],
      "metadata": {
        "id": "t_ocBhlAwBL2"
      }
    },
    {
      "cell_type": "code",
      "source": [
        "x_dropdown = widgets.Dropdown(\n",
        "    options=['PurchAmount', 'Cost', \"Quantity\"],\n",
        "    value='PurchAmount',\n",
        "    description='X variable:',\n",
        "    disabled=False,\n",
        ")\n",
        "\n",
        "y_dropdown = widgets.Dropdown(\n",
        "    options=['PurchAmount', 'Cost', \"Quantity\"],\n",
        "    value='PurchAmount',\n",
        "    description='Y variable:',\n",
        "    disabled=False,\n",
        ")"
      ],
      "metadata": {
        "id": "kprtZ1rMe-Vq"
      },
      "execution_count": null,
      "outputs": []
    },
    {
      "cell_type": "markdown",
      "source": [
        "Define the function that creates the scatterplot."
      ],
      "metadata": {
        "id": "pKJb-C8CwEQD"
      }
    },
    {
      "cell_type": "code",
      "source": [
        "def create_plot(xvar, yvar):\n",
        "  plt.scatter(x=myData[xvar], y=myData[yvar])\n",
        "  plt.xlabel(xvar, size=10)\n",
        "  plt.ylabel(yvar, size=10)\n",
        "  plt.show()"
      ],
      "metadata": {
        "id": "iUwzTf1BdQo0"
      },
      "execution_count": null,
      "outputs": []
    },
    {
      "cell_type": "markdown",
      "source": [
        "Link the input widgets and the output"
      ],
      "metadata": {
        "id": "UpaQi614wsuI"
      }
    },
    {
      "cell_type": "code",
      "source": [
        "out = widgets.interactive_output(create_plot, {'xvar': x_dropdown, 'yvar': y_dropdown})"
      ],
      "metadata": {
        "id": "Lkjr3slHww9U"
      },
      "execution_count": null,
      "outputs": []
    },
    {
      "cell_type": "markdown",
      "source": [
        "Display the input widgets and the output"
      ],
      "metadata": {
        "id": "9d7ePcuZRmbs"
      }
    },
    {
      "cell_type": "code",
      "source": [
        "display(y_dropdown, x_dropdown, out)"
      ],
      "metadata": {
        "id": "X77fWjoNRqIo",
        "outputId": "92becea6-f3b7-4f61-8191-5608ddfd7590",
        "colab": {
          "base_uri": "https://localhost:8080/",
          "height": 361,
          "referenced_widgets": [
            "a01899175a4241f1aef5b6ef35b1427c",
            "c380c2889dda46cf8762e38c5460474a",
            "2b153a6b2d3e4dc9a0f1193c70c62400",
            "02f81fef708f4298b4a1d952301ee9d2",
            "8d92581000b04b8691ec36e267982a09",
            "c8652428c57d450a91b1e8ae3063da19",
            "01bcbc5857874b6db23fd4bf26ab6372",
            "0f3b57be261946fc966b350bffb79828"
          ]
        }
      },
      "execution_count": null,
      "outputs": [
        {
          "output_type": "display_data",
          "data": {
            "text/plain": [
              "Dropdown(description='Y variable:', options=('PurchAmount', 'Cost', 'Quantity'), value='PurchAmount')"
            ],
            "application/vnd.jupyter.widget-view+json": {
              "version_major": 2,
              "version_minor": 0,
              "model_id": "a01899175a4241f1aef5b6ef35b1427c"
            }
          },
          "metadata": {}
        },
        {
          "output_type": "display_data",
          "data": {
            "text/plain": [
              "Dropdown(description='X variable:', options=('PurchAmount', 'Cost', 'Quantity'), value='PurchAmount')"
            ],
            "application/vnd.jupyter.widget-view+json": {
              "version_major": 2,
              "version_minor": 0,
              "model_id": "02f81fef708f4298b4a1d952301ee9d2"
            }
          },
          "metadata": {}
        },
        {
          "output_type": "display_data",
          "data": {
            "text/plain": [
              "Output()"
            ],
            "application/vnd.jupyter.widget-view+json": {
              "version_major": 2,
              "version_minor": 0,
              "model_id": "01bcbc5857874b6db23fd4bf26ab6372"
            }
          },
          "metadata": {}
        }
      ]
    },
    {
      "cell_type": "markdown",
      "source": [
        "# Resources\n",
        "Ipywidgets: https://ipywidgets.readthedocs.io/en/stable/examples/Widget%20List.html\n",
        "\n",
        "Voila gallery: https://voila-gallery.org\n",
        "\n",
        "Voila deployment: https://voila.readthedocs.io/en/stable/deploy.html "
      ],
      "metadata": {
        "id": "JS7ZPsbjVWYl"
      }
    }
  ]
}